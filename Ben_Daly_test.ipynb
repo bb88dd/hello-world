{
  "nbformat": 4,
  "nbformat_minor": 0,
  "metadata": {
    "colab": {
      "name": "Ben-Daly_test.ipynb",
      "version": "0.3.2",
      "provenance": [],
      "include_colab_link": true
    },
    "kernelspec": {
      "name": "python3",
      "display_name": "Python 3"
    }
  },
  "cells": [
    {
      "cell_type": "markdown",
      "metadata": {
        "id": "view-in-github",
        "colab_type": "text"
      },
      "source": [
        "<a href=\"https://colab.research.google.com/github/bb88dd/hello-world/blob/master/Ben_Daly_test.ipynb\" target=\"_parent\"><img src=\"https://colab.research.google.com/assets/colab-badge.svg\" alt=\"Open In Colab\"/></a>"
      ]
    },
    {
      "cell_type": "code",
      "metadata": {
        "id": "tLw2IDUpAuzP",
        "colab_type": "code",
        "colab": {}
      },
      "source": [
        "# NOTES FOR MY UNDERSTANDING OF GAME.\n",
        "# Six gods / decks (war, nature, magic, light, deception and death)\n",
        "# Each god has unique powers. Choose one power for your god at start of game.\n",
        "# Each god has a unique set of 30 cards (can have max. 2 of each card)\n",
        "# All decks have access to a shared pool of cards known as neutral cards.\n",
        "# Mana is a resource required to play cards or god powers. It's refreshed at start of turn.\n",
        "# Mana required to play card shown top left corner of card.\n",
        "# Pronto: underlying stats for a class of card."
      ],
      "execution_count": 0,
      "outputs": []
    },
    {
      "cell_type": "code",
      "metadata": {
        "id": "ek8C4cr6X_aj",
        "colab_type": "code",
        "colab": {}
      },
      "source": [
        "# Import libraries\n",
        "import requests\n",
        "import json\n",
        "import pandas as pd\n",
        "import numpy as np\n",
        "from pandas.io.json import json_normalize\n",
        "import seaborn as sns\n",
        "import matplotlib.pyplot as plt\n",
        "from google.colab import drive"
      ],
      "execution_count": 0,
      "outputs": []
    },
    {
      "cell_type": "code",
      "metadata": {
        "id": "C_AlwvCOG0lr",
        "colab_type": "code",
        "outputId": "1789955e-7a27-489c-f4a6-2d1efeb4c732",
        "colab": {
          "base_uri": "https://localhost:8080/",
          "height": 127
        }
      },
      "source": [
        "# Mount Google drive.\n",
        "drive.mount('/content/drive')"
      ],
      "execution_count": 0,
      "outputs": [
        {
          "output_type": "stream",
          "text": [
            "Go to this URL in a browser: https://accounts.google.com/o/oauth2/auth?client_id=947318989803-6bn6qk8qdgf4n4g3pfee6491hc0brc4i.apps.googleusercontent.com&redirect_uri=urn%3Aietf%3Awg%3Aoauth%3A2.0%3Aoob&scope=email%20https%3A%2F%2Fwww.googleapis.com%2Fauth%2Fdocs.test%20https%3A%2F%2Fwww.googleapis.com%2Fauth%2Fdrive%20https%3A%2F%2Fwww.googleapis.com%2Fauth%2Fdrive.photos.readonly%20https%3A%2F%2Fwww.googleapis.com%2Fauth%2Fpeopleapi.readonly&response_type=code\n",
            "\n",
            "Enter your authorization code:\n",
            "··········\n",
            "Mounted at /content/drive\n"
          ],
          "name": "stdout"
        }
      ]
    },
    {
      "cell_type": "code",
      "metadata": {
        "id": "ydp36ToSwEwM",
        "colab_type": "code",
        "colab": {}
      },
      "source": [
        "# Function to return user info. for players with highest win rate.\n",
        "def highest_win_rate_players(no_players, min_player_wins=50, records=150000, min_win_rate=0):\n",
        "  URL = 'https://api.godsunchained.com/v0/properties?sort=won_matches&order=desc&perPage='\n",
        "  response_properties = requests.get(URL + str(records))\n",
        "  dict_properties = json.loads(response_properties.text)['records']  # Select records from dict. output.\n",
        "  df_properties = pd.DataFrame(dict_properties)\n",
        "  df_properties = df_properties[df_properties.won_matches >= min_player_wins]\n",
        "  # Add total_matches and win_rate columns.\n",
        "  df_properties['total_matches'] = df_properties.won_matches + df_properties.lost_matches\n",
        "  df_properties['win_rate'] = df_properties.won_matches / df_properties.total_matches\n",
        "  df_properties = df_properties[df_properties.win_rate >= min_win_rate]\n",
        "  df_properties = df_properties.sort_values(by='win_rate', ascending=False)\n",
        "  df_properties = df_properties.reset_index(drop=True)\n",
        "  user_ids = df_properties.iloc[0:no_players, 2]\n",
        "  usernames = df_properties.iloc[0:no_players, 3]\n",
        "  return user_ids\n"
      ],
      "execution_count": 0,
      "outputs": []
    },
    {
      "cell_type": "code",
      "metadata": {
        "id": "p__f3XbKTj3j",
        "colab_type": "code",
        "colab": {}
      },
      "source": [
        "# Function to return user deck info. for a list of user_ids\n",
        "def decks_by_user_id(user_ids, records=50000):\n",
        "  URL = 'https://api.godsunchained.com/v0/match?perPage='\n",
        "  response_match = requests.get(URL + str(records))\n",
        "  dict_match = json.loads(response_match.text)['records']\n",
        "  df_match = json_normalize(dict_match, 'player_info')\n",
        "  df_match = df_match[df_match.user_id.isin(user_ids)]\n",
        "  df_match = df_match.reset_index(drop=True)\n",
        "  return df_match\n"
      ],
      "execution_count": 0,
      "outputs": []
    },
    {
      "cell_type": "code",
      "metadata": {
        "id": "eaaL35Zz6is4",
        "colab_type": "code",
        "colab": {}
      },
      "source": [
        "# Function to count gods frequency from dataframe of user deck info.\n",
        "def gods_count(df):\n",
        "  count = df['god'].value_counts()\n",
        "  return count"
      ],
      "execution_count": 0,
      "outputs": []
    },
    {
      "cell_type": "code",
      "metadata": {
        "colab_type": "code",
        "id": "3zAmyqKVbdSg",
        "colab": {}
      },
      "source": [
        "# Function to count card frequency from dataframe of user deck info.\n",
        "def card_freq(df, no_cards):\n",
        "  cards_flat = pd.Series([item for sublist in df.cards for item in sublist])\n",
        "  cards_count = cards_flat.value_counts().sort_index().rename_axis('cards').reset_index(name='freq').sort_values(by='freq', ascending=False)\n",
        "  cards_count = cards_count.reset_index(drop=True)\n",
        "  cards_count = cards_count.iloc[0:no_cards, :]\n",
        "  return cards_count"
      ],
      "execution_count": 0,
      "outputs": []
    },
    {
      "cell_type": "code",
      "metadata": {
        "id": "tI5YM_8XjoM4",
        "colab_type": "code",
        "colab": {}
      },
      "source": [
        "# Function to barplot gods / decks.\n",
        "def plot_gods(series,\n",
        "              filename,\n",
        "              title='Decks used by highest win rate players'):\n",
        "  plt.clf()\n",
        "  ax = sns.barplot(x=series.index.values, y=series)\n",
        "  ax.set(ylabel='No. games played using deck',\n",
        "         title=title)\n",
        "  plt.savefig('/content/drive/My Drive/Jobs/Data Science/Gods_unchained/imgs/plot_gods_{}.png'.format(filename))\n",
        "  #plt.show()\n",
        "  return ax"
      ],
      "execution_count": 0,
      "outputs": []
    },
    {
      "cell_type": "code",
      "metadata": {
        "id": "Mvm0LldPhEvN",
        "colab_type": "code",
        "colab": {}
      },
      "source": [
        "# Function to barplot card frequency.\n",
        "def plot_card_freq(df,\n",
        "                   filename,\n",
        "                   title='Most included cards across all decks with win rate > 50%'):\n",
        "  plt.clf()\n",
        "  ax = sns.barplot(x=df.cards, y=df.freq, order=df.cards)\n",
        "  ax.set(xlabel='Card number',\n",
        "         ylabel='No. times included',\n",
        "         title=title)\n",
        "  plt.savefig('/content/drive/My Drive/Jobs/Data Science/Gods_unchained/imgs/plot_cards_{}.png'.format(filename))\n",
        "  #plt.show()\n",
        "  return ax\n"
      ],
      "execution_count": 0,
      "outputs": []
    },
    {
      "cell_type": "markdown",
      "metadata": {
        "id": "3fV5kkQ0xZDp",
        "colab_type": "text"
      },
      "source": [
        "#Viewing all decks used by the highest win-rate players\n",
        "###This allows us to view what the best players are experimenting with.\n"
      ]
    },
    {
      "cell_type": "code",
      "metadata": {
        "id": "TYAw7Ublr2xn",
        "colab_type": "code",
        "colab": {}
      },
      "source": [
        "# Get list of players with highest win rates (look at different min. wins)  \n",
        "min_wins = [20, 50, 100]\n",
        "user_ids_mw20 = highest_win_rate_players(no_players=10, min_player_wins=min_wins[0], min_win_rate=0.5)\n",
        "user_ids_mw50 = highest_win_rate_players(no_players=10, min_player_wins=min_wins[1], min_win_rate=0.5)\n",
        "user_ids_mw100 = highest_win_rate_players(no_players=10, min_player_wins=min_wins[2], min_win_rate=0.5)"
      ],
      "execution_count": 0,
      "outputs": []
    },
    {
      "cell_type": "code",
      "metadata": {
        "id": "j8P9vBVFt9t_",
        "colab_type": "code",
        "colab": {}
      },
      "source": [
        "# Dataframe with decks used top 10 win rates players are using\n",
        "decks_mw20 = decks_by_user_id(user_ids_mw20)\n",
        "decks_mw50 = decks_by_user_id(user_ids_mw50)\n",
        "decks_mw100 = decks_by_user_id(user_ids_mw100)"
      ],
      "execution_count": 0,
      "outputs": []
    },
    {
      "cell_type": "code",
      "metadata": {
        "id": "dZzxg5syvnu-",
        "colab_type": "code",
        "colab": {}
      },
      "source": [
        "# Count decks used by players with the highest win rate. \n",
        "deck_count_mw20 = gods_count(decks_mw20)\n",
        "deck_count_mw50 = gods_count(decks_mw50)\n",
        "deck_count_mw100 = gods_count(decks_mw100)"
      ],
      "execution_count": 0,
      "outputs": []
    },
    {
      "cell_type": "code",
      "metadata": {
        "id": "7Zup1BpglmE8",
        "colab_type": "code",
        "colab": {}
      },
      "source": [
        "# Make plots for decks used by players with the highest win rate. \n",
        "sns.set(style='whitegrid')\n",
        "plot_deck_mw20 = plot_gods(deck_count_mw20, filename='mw20', title='')\n",
        "plot_deck_mw50 = plot_gods(deck_count_mw50, filename='mw50', title='')\n",
        "plot_deck_mw100 = plot_gods(deck_count_mw100, filename='mw100', title='')\n"
      ],
      "execution_count": 0,
      "outputs": []
    },
    {
      "cell_type": "markdown",
      "metadata": {
        "id": "VMgSL6NfBM7b",
        "colab_type": "text"
      },
      "source": [
        "This analysis takes the ten players with the highest win rates and looks at which decks there are using. To be considered for the top ten players must have a minimum of 20 match wins. Figure 1 shows the number of games played per deck for the top 10 players.  \n",
        "\n",
        "![test](https://docs.google.com/uc?export=download&id=1-38z6wzSOD5dl8VqFa2q1zjiHh53y_rb)  \n",
        "*Figure 1: Decks used by the ten players with highest win rate (min. 20 wins)*  \n",
        "\n",
        "The same analysis was carried out for looking at the top ten win rate players with a minimum of 50 and 100 wins (see Figures 2 and 3). The imbalance in decks increases for players who have taken part in more matches. It's possible that the war and nature decks have an advantage over the light, magic, death and deception decks.  \n",
        "\n",
        "![min50](https://docs.google.com/uc?export=download&id=1--zjm9UwvYnlb0Z-CpmXr10xJxLRg-EL)  \n",
        "*Figure 2: Decks used by the ten players with highest win rate (min. 50 wins)*  \n",
        "\n",
        "\n",
        "![min100](https://docs.google.com/uc?export=download&id=1-10_5Y4C7XDZBk5N7xRRMjKRxYbKqzVr)  \n",
        "*Figure 3: Decks used by the ten players with highest win rate (min. 100 wins)*\n",
        "\n",
        "\n"
      ]
    },
    {
      "cell_type": "markdown",
      "metadata": {
        "id": "WZpYlRco-0jX",
        "colab_type": "text"
      },
      "source": [
        "# Top 5 most included cards across all decks with above 50% win rate. \n",
        "### This allows us to track cards that are potentially warping a top level metagame."
      ]
    },
    {
      "cell_type": "code",
      "metadata": {
        "id": "E6KDmZP_-8tz",
        "colab_type": "code",
        "colab": {}
      },
      "source": [
        "# Plot top 5 most included cards across all decks for players with win rate ? 50%\n",
        "user_ids = highest_win_rate_players(no_players=10000, min_player_wins=20, min_win_rate=0.5)\n",
        "decks = decks_by_user_id(user_ids)\n",
        "top5_cards = card_freq(decks, no_cards=5)\n",
        "plot_top5_cards = plot_card_freq(top5_cards, filename='top5', title='')\n"
      ],
      "execution_count": 0,
      "outputs": []
    },
    {
      "cell_type": "code",
      "metadata": {
        "id": "ayzP-fXN_woa",
        "colab_type": "code",
        "colab": {}
      },
      "source": [
        "# Plot top 10 most included cards across all decks for players with win rate ? 50%\n",
        "user_ids = highest_win_rate_players(no_players=10000, min_player_wins=20, min_win_rate=0.5)\n",
        "decks = decks_by_user_id(user_ids)\n",
        "top5_cards = card_freq(decks, no_cards=10)\n",
        "plot_top5_cards = plot_card_freq(top5_cards, filename='top10', title='')\n"
      ],
      "execution_count": 0,
      "outputs": []
    },
    {
      "cell_type": "markdown",
      "metadata": {
        "id": "1-zjdZRGOUtV",
        "colab_type": "text"
      },
      "source": [
        "This analysis examines the most cards most frequently included in players decks whose win rate is greater than 50%. Figure 4 shows the top 5 cards, figure 5 shows the top 10 cards to give some additional context.  \n",
        "\n",
        "![top5](https://docs.google.com/uc?export=download&id=1-2zg_tWEqHL8ROmflcwdkbFMXdH5cJuW)  \n",
        "*Figure 4: Five most include cards for players with win rate > 50%*  \n",
        "\n",
        "\n",
        "![top10](https://docs.google.com/uc?export=download&id=13JsQlKWGoCUukEiFRJm6kACBNRDTrhQo)  \n",
        "*Figure 5: Ten most include cards for players with win rate > 50%*\n"
      ]
    }
  ]
}